{
 "cells": [
  {
   "cell_type": "markdown",
   "metadata": {
    "collapsed": true,
    "pycharm": {
     "name": "#%% md\n"
    }
   },
   "source": [
    "# Make metadata\n",
    "1. edit project name to append _clean to avoid import conflicts in Webanno\n",
    "2. file containing records of: doc_title, annotator, gold/silver-standard, company, sector, token_cnt, event_cnt, sentence_cnt, participant_cnt, filler_cnt"
   ]
  },
  {
   "cell_type": "code",
   "execution_count": null,
   "outputs": [],
   "source": [
    "# DOES NOT WORK AND IS NOT NECESSARY # now edit info in the WebAnno export json file\n",
    "# import json\n",
    "\n",
    "# mtdt_fp = next(final_clean_optdirp.glob(\"*.json\"))\n",
    "# copy2(mtdt_fp, str(mtdt_fp) + \".orig\")\n",
    "# with open(mtdt_fp, \"rt\") as mtdt_in:\n",
    "#     project_metadata = json.load(mtdt_in)\n",
    "# project_metadata[\"name\"] = 'SENTiVENT-event-english-1.0-clean'\n",
    "# with open(mtdt_fp, \"wt\") as mtdt_out:\n",
    "#     json.dump(project_metadata, mtdt_out)\n",
    "\n"
   ],
   "metadata": {
    "collapsed": false,
    "pycharm": {
     "name": "#%%\n"
    }
   }
  }
 ],
 "metadata": {
  "kernelspec": {
   "display_name": "Python 3",
   "language": "python",
   "name": "python3"
  },
  "language_info": {
   "codemirror_mode": {
    "name": "ipython",
    "version": 2
   },
   "file_extension": ".py",
   "mimetype": "text/x-python",
   "name": "python",
   "nbconvert_exporter": "python",
   "pygments_lexer": "ipython2",
   "version": "2.7.6"
  },
  "pycharm": {
   "stem_cell": {
    "cell_type": "raw",
    "source": [],
    "metadata": {
     "collapsed": false
    }
   }
  }
 },
 "nbformat": 4,
 "nbformat_minor": 0
}